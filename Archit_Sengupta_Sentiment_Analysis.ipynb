{
  "nbformat": 4,
  "nbformat_minor": 0,
  "metadata": {
    "colab": {
      "name": "Archit_Sengupta_Sentiment_Analysis.ipynb",
      "provenance": [],
      "collapsed_sections": [],
      "authorship_tag": "ABX9TyOgkOPMs54SxvVavCFuuVHs",
      "include_colab_link": true
    },
    "kernelspec": {
      "name": "python3",
      "display_name": "Python 3"
    },
    "language_info": {
      "name": "python"
    }
  },
  "cells": [
    {
      "cell_type": "markdown",
      "metadata": {
        "id": "view-in-github",
        "colab_type": "text"
      },
      "source": [
        "<a href=\"https://colab.research.google.com/github/Leon7308/Sentiment-Analysis-IMDB/blob/master/Archit_Sengupta_Sentiment_Analysis.ipynb\" target=\"_parent\"><img src=\"https://colab.research.google.com/assets/colab-badge.svg\" alt=\"Open In Colab\"/></a>"
      ]
    },
    {
      "cell_type": "code",
      "metadata": {
        "id": "qEb3IHdW3QZn",
        "colab": {
          "base_uri": "https://localhost:8080/"
        },
        "outputId": "58b8164e-4f0c-4b4b-8062-0f199362eac8"
      },
      "source": [
        "# Connect colab to google drive\n",
        "# Since this project uses my google drive, you will have to upload the required files to your google drive for this to work. Alternatively, you can change the file locations to the dataset paths  \n",
        "from google.colab import drive\n",
        "drive.mount('/content/drive')"
      ],
      "execution_count": null,
      "outputs": [
        {
          "output_type": "stream",
          "name": "stdout",
          "text": [
            "Drive already mounted at /content/drive; to attempt to forcibly remount, call drive.mount(\"/content/drive\", force_remount=True).\n"
          ]
        }
      ]
    },
    {
      "cell_type": "code",
      "metadata": {
        "id": "1pGMfScc4eHI"
      },
      "source": [
        "# Specify path for dataset\n",
        "\n",
        "train_path = '/content/drive/My Drive/sentiment_analysis/Train.csv'\n",
        "validate_path = '/content/drive/My Drive/sentiment_analysis/Valid.csv'\n",
        "test_path = '/content/drive/My Drive/sentiment_analysis/Test.csv'"
      ],
      "execution_count": null,
      "outputs": []
    },
    {
      "cell_type": "code",
      "metadata": {
        "id": "_UF0sR1Y5ey7",
        "colab": {
          "base_uri": "https://localhost:8080/",
          "height": 204
        },
        "outputId": "ad69cd75-b480-4ab5-a22d-78a2dc2ff915"
      },
      "source": [
        "import numpy as np #linear algebra\n",
        "import pandas as pd #data processing, CSV file I/O (e.g. pd.read_csv)\n",
        "\n",
        "# Use pandas to read csv files\n",
        "train_data = pd.read_csv(train_path).head(2000) #Taking first 2000 values\n",
        "valid_data = pd.read_csv(validate_path).head(200) #Taking first 200 values\n",
        "test_data = pd.read_csv(test_path).head(200) #Taking first 200 values\n",
        "\n",
        "train_data.head()"
      ],
      "execution_count": null,
      "outputs": [
        {
          "output_type": "execute_result",
          "data": {
            "text/html": [
              "<div>\n",
              "<style scoped>\n",
              "    .dataframe tbody tr th:only-of-type {\n",
              "        vertical-align: middle;\n",
              "    }\n",
              "\n",
              "    .dataframe tbody tr th {\n",
              "        vertical-align: top;\n",
              "    }\n",
              "\n",
              "    .dataframe thead th {\n",
              "        text-align: right;\n",
              "    }\n",
              "</style>\n",
              "<table border=\"1\" class=\"dataframe\">\n",
              "  <thead>\n",
              "    <tr style=\"text-align: right;\">\n",
              "      <th></th>\n",
              "      <th>text</th>\n",
              "      <th>label</th>\n",
              "    </tr>\n",
              "  </thead>\n",
              "  <tbody>\n",
              "    <tr>\n",
              "      <th>0</th>\n",
              "      <td>I grew up (b. 1965) watching and loving the Th...</td>\n",
              "      <td>0</td>\n",
              "    </tr>\n",
              "    <tr>\n",
              "      <th>1</th>\n",
              "      <td>When I put this movie in my DVD player, and sa...</td>\n",
              "      <td>0</td>\n",
              "    </tr>\n",
              "    <tr>\n",
              "      <th>2</th>\n",
              "      <td>Why do people who do not know what a particula...</td>\n",
              "      <td>0</td>\n",
              "    </tr>\n",
              "    <tr>\n",
              "      <th>3</th>\n",
              "      <td>Even though I have great interest in Biblical ...</td>\n",
              "      <td>0</td>\n",
              "    </tr>\n",
              "    <tr>\n",
              "      <th>4</th>\n",
              "      <td>Im a die hard Dads Army fan and nothing will e...</td>\n",
              "      <td>1</td>\n",
              "    </tr>\n",
              "  </tbody>\n",
              "</table>\n",
              "</div>"
            ],
            "text/plain": [
              "                                                text  label\n",
              "0  I grew up (b. 1965) watching and loving the Th...      0\n",
              "1  When I put this movie in my DVD player, and sa...      0\n",
              "2  Why do people who do not know what a particula...      0\n",
              "3  Even though I have great interest in Biblical ...      0\n",
              "4  Im a die hard Dads Army fan and nothing will e...      1"
            ]
          },
          "metadata": {},
          "execution_count": 3
        }
      ]
    },
    {
      "cell_type": "code",
      "metadata": {
        "id": "PsV1zX587jFZ",
        "colab": {
          "base_uri": "https://localhost:8080/",
          "height": 204
        },
        "outputId": "9b811207-385f-4c7c-fe01-b5a6a6244bed"
      },
      "source": [
        "# Convert sentences to lowercase\n",
        "\n",
        "train_data['text'] = train_data['text'].str.lower()\n",
        "valid_data['text'] = valid_data['text'].str.lower()\n",
        "test_data['text'] = test_data['text'].str.lower()\n",
        "train_data.head()"
      ],
      "execution_count": null,
      "outputs": [
        {
          "output_type": "execute_result",
          "data": {
            "text/html": [
              "<div>\n",
              "<style scoped>\n",
              "    .dataframe tbody tr th:only-of-type {\n",
              "        vertical-align: middle;\n",
              "    }\n",
              "\n",
              "    .dataframe tbody tr th {\n",
              "        vertical-align: top;\n",
              "    }\n",
              "\n",
              "    .dataframe thead th {\n",
              "        text-align: right;\n",
              "    }\n",
              "</style>\n",
              "<table border=\"1\" class=\"dataframe\">\n",
              "  <thead>\n",
              "    <tr style=\"text-align: right;\">\n",
              "      <th></th>\n",
              "      <th>text</th>\n",
              "      <th>label</th>\n",
              "    </tr>\n",
              "  </thead>\n",
              "  <tbody>\n",
              "    <tr>\n",
              "      <th>0</th>\n",
              "      <td>i grew up (b. 1965) watching and loving the th...</td>\n",
              "      <td>0</td>\n",
              "    </tr>\n",
              "    <tr>\n",
              "      <th>1</th>\n",
              "      <td>when i put this movie in my dvd player, and sa...</td>\n",
              "      <td>0</td>\n",
              "    </tr>\n",
              "    <tr>\n",
              "      <th>2</th>\n",
              "      <td>why do people who do not know what a particula...</td>\n",
              "      <td>0</td>\n",
              "    </tr>\n",
              "    <tr>\n",
              "      <th>3</th>\n",
              "      <td>even though i have great interest in biblical ...</td>\n",
              "      <td>0</td>\n",
              "    </tr>\n",
              "    <tr>\n",
              "      <th>4</th>\n",
              "      <td>im a die hard dads army fan and nothing will e...</td>\n",
              "      <td>1</td>\n",
              "    </tr>\n",
              "  </tbody>\n",
              "</table>\n",
              "</div>"
            ],
            "text/plain": [
              "                                                text  label\n",
              "0  i grew up (b. 1965) watching and loving the th...      0\n",
              "1  when i put this movie in my dvd player, and sa...      0\n",
              "2  why do people who do not know what a particula...      0\n",
              "3  even though i have great interest in biblical ...      0\n",
              "4  im a die hard dads army fan and nothing will e...      1"
            ]
          },
          "metadata": {},
          "execution_count": 4
        }
      ]
    },
    {
      "cell_type": "code",
      "metadata": {
        "id": "7q0lYumA9fOU",
        "colab": {
          "base_uri": "https://localhost:8080/",
          "height": 204
        },
        "outputId": "cc51f0c0-0072-4afe-9b24-8bf5a82cb20b"
      },
      "source": [
        "# Remove Punctuations\n",
        "\n",
        "train_data['text'] = train_data['text'].str.replace('[^\\w\\s]','')\n",
        "valid_data['text'] = valid_data['text'].str.replace('[^\\w\\s]','')\n",
        "test_data['text'] = test_data['text'].str.replace('[^\\w\\s]','')\n",
        "train_data.head()\n"
      ],
      "execution_count": null,
      "outputs": [
        {
          "output_type": "execute_result",
          "data": {
            "text/html": [
              "<div>\n",
              "<style scoped>\n",
              "    .dataframe tbody tr th:only-of-type {\n",
              "        vertical-align: middle;\n",
              "    }\n",
              "\n",
              "    .dataframe tbody tr th {\n",
              "        vertical-align: top;\n",
              "    }\n",
              "\n",
              "    .dataframe thead th {\n",
              "        text-align: right;\n",
              "    }\n",
              "</style>\n",
              "<table border=\"1\" class=\"dataframe\">\n",
              "  <thead>\n",
              "    <tr style=\"text-align: right;\">\n",
              "      <th></th>\n",
              "      <th>text</th>\n",
              "      <th>label</th>\n",
              "    </tr>\n",
              "  </thead>\n",
              "  <tbody>\n",
              "    <tr>\n",
              "      <th>0</th>\n",
              "      <td>i grew up b 1965 watching and loving the thund...</td>\n",
              "      <td>0</td>\n",
              "    </tr>\n",
              "    <tr>\n",
              "      <th>1</th>\n",
              "      <td>when i put this movie in my dvd player and sat...</td>\n",
              "      <td>0</td>\n",
              "    </tr>\n",
              "    <tr>\n",
              "      <th>2</th>\n",
              "      <td>why do people who do not know what a particula...</td>\n",
              "      <td>0</td>\n",
              "    </tr>\n",
              "    <tr>\n",
              "      <th>3</th>\n",
              "      <td>even though i have great interest in biblical ...</td>\n",
              "      <td>0</td>\n",
              "    </tr>\n",
              "    <tr>\n",
              "      <th>4</th>\n",
              "      <td>im a die hard dads army fan and nothing will e...</td>\n",
              "      <td>1</td>\n",
              "    </tr>\n",
              "  </tbody>\n",
              "</table>\n",
              "</div>"
            ],
            "text/plain": [
              "                                                text  label\n",
              "0  i grew up b 1965 watching and loving the thund...      0\n",
              "1  when i put this movie in my dvd player and sat...      0\n",
              "2  why do people who do not know what a particula...      0\n",
              "3  even though i have great interest in biblical ...      0\n",
              "4  im a die hard dads army fan and nothing will e...      1"
            ]
          },
          "metadata": {},
          "execution_count": 5
        }
      ]
    },
    {
      "cell_type": "code",
      "metadata": {
        "colab": {
          "base_uri": "https://localhost:8080/",
          "height": 238
        },
        "id": "9ht831zPC8j8",
        "outputId": "2edb5ce8-0149-41a1-c6bd-7e8de44cdeed"
      },
      "source": [
        "# Remove stopwords like i, in, at, ...\n",
        "from nltk.corpus import stopwords\n",
        "import nltk \n",
        "nltk.download('stopwords')\n",
        "\n",
        "stop = stopwords.words('english')\n",
        "\n",
        "train_data['text'] = train_data['text'].apply(lambda x: ' '.join([word for word in x.split() if word not in (stop)]))\n",
        "valid_data['text'] = valid_data['text'].apply(lambda x: ' '.join([word for word in x.split() if word not in (stop)]))\n",
        "test_data['text'] = test_data['text'].apply(lambda x: ' '.join([word for word in x.split() if word not in (stop)]))\n",
        "train_data.head()\n",
        "\n",
        "# You can apply Stemming or Lemmatizing after this. I haven't applied it for this particular project"
      ],
      "execution_count": null,
      "outputs": [
        {
          "output_type": "stream",
          "name": "stdout",
          "text": [
            "[nltk_data] Downloading package stopwords to /root/nltk_data...\n",
            "[nltk_data]   Package stopwords is already up-to-date!\n"
          ]
        },
        {
          "output_type": "execute_result",
          "data": {
            "text/html": [
              "<div>\n",
              "<style scoped>\n",
              "    .dataframe tbody tr th:only-of-type {\n",
              "        vertical-align: middle;\n",
              "    }\n",
              "\n",
              "    .dataframe tbody tr th {\n",
              "        vertical-align: top;\n",
              "    }\n",
              "\n",
              "    .dataframe thead th {\n",
              "        text-align: right;\n",
              "    }\n",
              "</style>\n",
              "<table border=\"1\" class=\"dataframe\">\n",
              "  <thead>\n",
              "    <tr style=\"text-align: right;\">\n",
              "      <th></th>\n",
              "      <th>text</th>\n",
              "      <th>label</th>\n",
              "    </tr>\n",
              "  </thead>\n",
              "  <tbody>\n",
              "    <tr>\n",
              "      <th>0</th>\n",
              "      <td>grew b 1965 watching loving thunderbirds mates...</td>\n",
              "      <td>0</td>\n",
              "    </tr>\n",
              "    <tr>\n",
              "      <th>1</th>\n",
              "      <td>put movie dvd player sat coke chips expectatio...</td>\n",
              "      <td>0</td>\n",
              "    </tr>\n",
              "    <tr>\n",
              "      <th>2</th>\n",
              "      <td>people know particular time past like feel nee...</td>\n",
              "      <td>0</td>\n",
              "    </tr>\n",
              "    <tr>\n",
              "      <th>3</th>\n",
              "      <td>even though great interest biblical movies bor...</td>\n",
              "      <td>0</td>\n",
              "    </tr>\n",
              "    <tr>\n",
              "      <th>4</th>\n",
              "      <td>im die hard dads army fan nothing ever change ...</td>\n",
              "      <td>1</td>\n",
              "    </tr>\n",
              "  </tbody>\n",
              "</table>\n",
              "</div>"
            ],
            "text/plain": [
              "                                                text  label\n",
              "0  grew b 1965 watching loving thunderbirds mates...      0\n",
              "1  put movie dvd player sat coke chips expectatio...      0\n",
              "2  people know particular time past like feel nee...      0\n",
              "3  even though great interest biblical movies bor...      0\n",
              "4  im die hard dads army fan nothing ever change ...      1"
            ]
          },
          "metadata": {},
          "execution_count": 6
        }
      ]
    },
    {
      "cell_type": "code",
      "metadata": {
        "colab": {
          "base_uri": "https://localhost:8080/"
        },
        "id": "JTu8z08_Nu7M",
        "outputId": "c0882ced-1002-4ca0-fe22-02991aaa5ac4"
      },
      "source": [
        "from sklearn.feature_extraction.text import TfidfVectorizer # term frequency inverse document frequency\n",
        "\n",
        "# Create feature vectors for every sentence \n",
        "vectorizer = TfidfVectorizer(max_features = 20000, sublinear_tf = True, use_idf = True)\n",
        "\n",
        "train_vectors = vectorizer.fit_transform(train_data['text'])\n",
        "valid_vectors = vectorizer.transform(valid_data['text'])\n",
        "test_vectors = vectorizer.transform(test_data['text'])\n",
        "\n",
        "# print(valid_vectors[1])"
      ],
      "execution_count": null,
      "outputs": [
        {
          "output_type": "stream",
          "name": "stdout",
          "text": [
            "  (0, 19819)\t0.07022733034739644\n",
            "  (0, 19658)\t0.08676097267379042\n",
            "  (0, 19466)\t0.10366186882837808\n",
            "  (0, 19402)\t0.1310510995879183\n",
            "  (0, 19304)\t0.16579782444082164\n",
            "  (0, 18986)\t0.06882676817399586\n",
            "  (0, 18847)\t0.18267422997727054\n",
            "  (0, 18805)\t0.11230088459635282\n",
            "  (0, 18279)\t0.09128786114436266\n",
            "  (0, 17511)\t0.09368463146447267\n",
            "  (0, 17049)\t0.0516497723186839\n",
            "  (0, 17043)\t0.13648408867081382\n",
            "  (0, 16963)\t0.12504067221726048\n",
            "  (0, 16436)\t0.17566988882660717\n",
            "  (0, 16336)\t0.14516823421366604\n",
            "  (0, 15934)\t0.15879348329015827\n",
            "  (0, 15000)\t0.22027196854456702\n",
            "  (0, 14796)\t0.08481231189849436\n",
            "  (0, 14140)\t0.10097044981456406\n",
            "  (0, 13730)\t0.18267422997727054\n",
            "  (0, 13729)\t0.1635217934067762\n",
            "  (0, 11607)\t0.052914364505029905\n",
            "  (0, 11510)\t0.08510565889974035\n",
            "  (0, 10846)\t0.12917729013280171\n",
            "  (0, 10181)\t0.10563707356413547\n",
            "  :\t:\n",
            "  (0, 5840)\t0.11141542314076823\n",
            "  (0, 5810)\t0.10778677839717989\n",
            "  (0, 5705)\t0.0562386789041106\n",
            "  (0, 5675)\t0.1074150535190848\n",
            "  (0, 5508)\t0.15336049420726272\n",
            "  (0, 5201)\t0.14044101937539857\n",
            "  (0, 5061)\t0.12504067221726048\n",
            "  (0, 4962)\t0.08437881368315636\n",
            "  (0, 4250)\t0.08981180276605188\n",
            "  (0, 4037)\t0.11141542314076823\n",
            "  (0, 3836)\t0.11056103700092158\n",
            "  (0, 3370)\t0.19254629436305606\n",
            "  (0, 3215)\t0.12217294898213835\n",
            "  (0, 3113)\t0.057966839829723185\n",
            "  (0, 2878)\t0.18267422997727054\n",
            "  (0, 2669)\t0.16204463975011493\n",
            "  (0, 2657)\t0.17566988882660717\n",
            "  (0, 2176)\t0.14191707775370935\n",
            "  (0, 2131)\t0.10668820830250081\n",
            "  (0, 2046)\t0.17023689974371164\n",
            "  (0, 1782)\t0.03749681496958993\n",
            "  (0, 1203)\t0.06975146816599496\n",
            "  (0, 1173)\t0.16685483313227806\n",
            "  (0, 994)\t0.1341635234413192\n",
            "  (0, 365)\t0.07338712645034201\n"
          ]
        }
      ]
    },
    {
      "cell_type": "code",
      "metadata": {
        "id": "xlZfU2pzKexJ"
      },
      "source": [
        "import keras\n",
        "from keras.models import Sequential\n",
        "from keras.layers import Dense\n",
        "from keras.layers import Dropout\n",
        "\n",
        "# Defining the NN model\n",
        "model = Sequential()\n",
        "model.add(Dense(20, input_shape=(train_vectors.shape[1],), activation='relu'))\n",
        "model.add(Dropout(0.3))\n",
        "model.add(Dense(1, activation='sigmoid'))\n",
        "\n",
        "# compile network\n",
        "model.compile(loss='binary_crossentropy', optimizer='adam', metrics=['accuracy'])"
      ],
      "execution_count": null,
      "outputs": []
    },
    {
      "cell_type": "code",
      "metadata": {
        "id": "EnUav2bfKjLD",
        "colab": {
          "base_uri": "https://localhost:8080/"
        },
        "outputId": "a150292b-44d8-4e51-f5e2-ae89d69a7ba7"
      },
      "source": [
        "# Train\n",
        "callbacks_list = [\n",
        "    keras.callbacks.ModelCheckpoint(\n",
        "        filepath='model.h5',\n",
        "        monitor='val_loss', save_best_only=True, verbose=1),\n",
        "    keras.callbacks.EarlyStopping(monitor='val_loss', patience=5,verbose=1)\n",
        "]\n",
        "\n",
        "history = model.fit(\n",
        "    train_vectors.toarray(), train_data['label'], \n",
        "    epochs=20, \n",
        "    verbose=1,\n",
        "    callbacks = callbacks_list,\n",
        "    validation_data=(valid_vectors.toarray(), valid_data['label']))"
      ],
      "execution_count": null,
      "outputs": [
        {
          "output_type": "stream",
          "name": "stdout",
          "text": [
            "Epoch 1/20\n",
            "63/63 [==============================] - 1s 10ms/step - loss: 0.6793 - accuracy: 0.5835 - val_loss: 0.6497 - val_accuracy: 0.8500\n",
            "\n",
            "Epoch 00001: val_loss improved from inf to 0.64966, saving model to model.h5\n",
            "Epoch 2/20\n",
            "63/63 [==============================] - 0s 7ms/step - loss: 0.5940 - accuracy: 0.8840 - val_loss: 0.5802 - val_accuracy: 0.8650\n",
            "\n",
            "Epoch 00002: val_loss improved from 0.64966 to 0.58019, saving model to model.h5\n",
            "Epoch 3/20\n",
            "63/63 [==============================] - 0s 7ms/step - loss: 0.4721 - accuracy: 0.9540 - val_loss: 0.5081 - val_accuracy: 0.8650\n",
            "\n",
            "Epoch 00003: val_loss improved from 0.58019 to 0.50815, saving model to model.h5\n",
            "Epoch 4/20\n",
            "63/63 [==============================] - 0s 7ms/step - loss: 0.3578 - accuracy: 0.9695 - val_loss: 0.4516 - val_accuracy: 0.8650\n",
            "\n",
            "Epoch 00004: val_loss improved from 0.50815 to 0.45162, saving model to model.h5\n",
            "Epoch 5/20\n",
            "63/63 [==============================] - 0s 7ms/step - loss: 0.2589 - accuracy: 0.9880 - val_loss: 0.4088 - val_accuracy: 0.8700\n",
            "\n",
            "Epoch 00005: val_loss improved from 0.45162 to 0.40881, saving model to model.h5\n",
            "Epoch 6/20\n",
            "63/63 [==============================] - 0s 7ms/step - loss: 0.1977 - accuracy: 0.9890 - val_loss: 0.3803 - val_accuracy: 0.8700\n",
            "\n",
            "Epoch 00006: val_loss improved from 0.40881 to 0.38031, saving model to model.h5\n",
            "Epoch 7/20\n",
            "63/63 [==============================] - 0s 7ms/step - loss: 0.1456 - accuracy: 0.9925 - val_loss: 0.3619 - val_accuracy: 0.8700\n",
            "\n",
            "Epoch 00007: val_loss improved from 0.38031 to 0.36187, saving model to model.h5\n",
            "Epoch 8/20\n",
            "63/63 [==============================] - 0s 7ms/step - loss: 0.1132 - accuracy: 0.9955 - val_loss: 0.3497 - val_accuracy: 0.8700\n",
            "\n",
            "Epoch 00008: val_loss improved from 0.36187 to 0.34968, saving model to model.h5\n",
            "Epoch 9/20\n",
            "63/63 [==============================] - 0s 7ms/step - loss: 0.0870 - accuracy: 0.9980 - val_loss: 0.3421 - val_accuracy: 0.8600\n",
            "\n",
            "Epoch 00009: val_loss improved from 0.34968 to 0.34215, saving model to model.h5\n",
            "Epoch 10/20\n",
            "63/63 [==============================] - 0s 7ms/step - loss: 0.0700 - accuracy: 0.9995 - val_loss: 0.3360 - val_accuracy: 0.8650\n",
            "\n",
            "Epoch 00010: val_loss improved from 0.34215 to 0.33599, saving model to model.h5\n",
            "Epoch 11/20\n",
            "63/63 [==============================] - 0s 7ms/step - loss: 0.0583 - accuracy: 0.9985 - val_loss: 0.3337 - val_accuracy: 0.8600\n",
            "\n",
            "Epoch 00011: val_loss improved from 0.33599 to 0.33369, saving model to model.h5\n",
            "Epoch 12/20\n",
            "63/63 [==============================] - 0s 7ms/step - loss: 0.0481 - accuracy: 1.0000 - val_loss: 0.3303 - val_accuracy: 0.8600\n",
            "\n",
            "Epoch 00012: val_loss improved from 0.33369 to 0.33028, saving model to model.h5\n",
            "Epoch 13/20\n",
            "63/63 [==============================] - 0s 7ms/step - loss: 0.0382 - accuracy: 1.0000 - val_loss: 0.3289 - val_accuracy: 0.8650\n",
            "\n",
            "Epoch 00013: val_loss improved from 0.33028 to 0.32887, saving model to model.h5\n",
            "Epoch 14/20\n",
            "63/63 [==============================] - 0s 7ms/step - loss: 0.0352 - accuracy: 0.9995 - val_loss: 0.3283 - val_accuracy: 0.8550\n",
            "\n",
            "Epoch 00014: val_loss improved from 0.32887 to 0.32831, saving model to model.h5\n",
            "Epoch 15/20\n",
            "63/63 [==============================] - 0s 8ms/step - loss: 0.0289 - accuracy: 1.0000 - val_loss: 0.3280 - val_accuracy: 0.8600\n",
            "\n",
            "Epoch 00015: val_loss improved from 0.32831 to 0.32799, saving model to model.h5\n",
            "Epoch 16/20\n",
            "63/63 [==============================] - 0s 7ms/step - loss: 0.0262 - accuracy: 1.0000 - val_loss: 0.3280 - val_accuracy: 0.8600\n",
            "\n",
            "Epoch 00016: val_loss did not improve from 0.32799\n",
            "Epoch 17/20\n",
            "63/63 [==============================] - 0s 7ms/step - loss: 0.0230 - accuracy: 1.0000 - val_loss: 0.3283 - val_accuracy: 0.8600\n",
            "\n",
            "Epoch 00017: val_loss did not improve from 0.32799\n",
            "Epoch 18/20\n",
            "63/63 [==============================] - 0s 7ms/step - loss: 0.0189 - accuracy: 1.0000 - val_loss: 0.3303 - val_accuracy: 0.8600\n",
            "\n",
            "Epoch 00018: val_loss did not improve from 0.32799\n",
            "Epoch 19/20\n",
            "63/63 [==============================] - 0s 7ms/step - loss: 0.0185 - accuracy: 0.9990 - val_loss: 0.3308 - val_accuracy: 0.8650\n",
            "\n",
            "Epoch 00019: val_loss did not improve from 0.32799\n",
            "Epoch 20/20\n",
            "63/63 [==============================] - 0s 7ms/step - loss: 0.0158 - accuracy: 1.0000 - val_loss: 0.3311 - val_accuracy: 0.8650\n",
            "\n",
            "Epoch 00020: val_loss did not improve from 0.32799\n",
            "Epoch 00020: early stopping\n"
          ]
        }
      ]
    },
    {
      "cell_type": "code",
      "metadata": {
        "id": "_Rp1_lWqKkCn",
        "colab": {
          "base_uri": "https://localhost:8080/",
          "height": 483
        },
        "outputId": "dc6c8c55-9853-4b90-9651-fded43b72bac"
      },
      "source": [
        "# Plot Loss graph and Accuracy Graph\n",
        "\n",
        "import matplotlib.pyplot as plt\n",
        "fig, ax = plt.subplots(1,2, figsize=(16,8))\n",
        "ax[0].plot(history.history['loss'], color='b', label=\"Training loss\")\n",
        "ax[0].plot(history.history['val_loss'], color='r', label=\"Validation loss\",axes =ax[0])\n",
        "legend = ax[0].legend(loc='best', shadow=True)\n",
        "\n",
        "ax[1].plot(history.history['accuracy'], color='b', label=\"Training accuracy\")\n",
        "ax[1].plot(history.history['val_accuracy'], color='r',label=\"Validation accuracy\")\n",
        "legend = ax[1].legend(loc='best', shadow=True)"
      ],
      "execution_count": null,
      "outputs": [
        {
          "output_type": "display_data",
          "data": {
            "image/png": "[encoded data removed]",
            "text/plain": [
              "<Figure size 1152x576 with 2 Axes>"
            ]
          },
          "metadata": {
            "needs_background": "light"
          }
        }
      ]
    },
    {
      "cell_type": "code",
      "metadata": {
        "colab": {
          "base_uri": "https://localhost:8080/"
        },
        "id": "f26ePA68SGs3",
        "outputId": "df5ab323-1b59-418d-b5d8-0e86046f19c1"
      },
      "source": [
        "from sklearn.metrics import classification_report\n",
        "from tensorflow.keras.models import load_model\n",
        "# Load the best saved model\n",
        "model = load_model('model.h5')\n",
        "\n",
        "# Results against test data\n",
        "y_pred = model.predict(test_vectors.toarray())\n",
        "y_pred = np.round(y_pred).astype(int)\n",
        "\n",
        "print(classification_report(test_data['label'], y_pred, target_names=['Negative Review','Positive Review']))"
      ],
      "execution_count": null,
      "outputs": [
        {
          "output_type": "stream",
          "name": "stdout",
          "text": [
            "                 precision    recall  f1-score   support\n",
            "\n",
            "Negative Review       0.90      0.92      0.91       110\n",
            "Positive Review       0.90      0.88      0.89        90\n",
            "\n",
            "       accuracy                           0.90       200\n",
            "      macro avg       0.90      0.90      0.90       200\n",
            "   weighted avg       0.90      0.90      0.90       200\n",
            "\n"
          ]
        }
      ]
    }
  ]
}